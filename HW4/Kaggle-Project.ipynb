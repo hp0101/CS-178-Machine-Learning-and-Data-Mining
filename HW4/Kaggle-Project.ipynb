{
 "cells": [
  {
   "cell_type": "code",
   "execution_count": 1,
   "metadata": {
    "collapsed": true
   },
   "outputs": [],
   "source": [
    "from __future__ import division\n",
    "import numpy as np \n",
    "import mltools as ml\n",
    "import math\n",
    "\n",
    "%matplotlib inline\n",
    "import matplotlib.pyplot as plt\n",
    "\n",
    "np.random.seed(0)"
   ]
  },
  {
   "cell_type": "code",
   "execution_count": 2,
   "metadata": {
    "collapsed": true
   },
   "outputs": [],
   "source": [
    "X = np.genfromtxt('data/X_train.txt', delimiter=None)\n",
    "Y = np.genfromtxt('data/Y_train.txt', delimiter=None)\n",
    "X,Y = ml.shuffleData(X,Y)\n",
    "Xte = np.genfromtxt('data/X_test.txt', delimiter=None)"
   ]
  },
  {
   "cell_type": "markdown",
   "metadata": {},
   "source": [
    "## Decision Trees"
   ]
  },
  {
   "cell_type": "code",
   "execution_count": null,
   "metadata": {
    "collapsed": true
   },
   "outputs": [],
   "source": [
    "learner = ml.dtree.treeClassify(X, Y, minParent = 20, maxDepth=15, minLeaf = 64)\n",
    "Yte = np.vstack((np.arange(Xte.shape[0]), learner.predictSoft(Xte)[:,1])).T\n",
    "np.savetxt('Y_submit.txt', Yte, '%d, %.2f', header='ID,Prob1', comments='', delimiter=',')"
   ]
  },
  {
   "cell_type": "markdown",
   "metadata": {},
   "source": [
    "## Classifier #2"
   ]
  },
  {
   "cell_type": "code",
   "execution_count": null,
   "metadata": {
    "collapsed": true
   },
   "outputs": [],
   "source": [
    "Xtr, Xva, Ytr, Yva = ml.splitData(X, Y)\n",
    "Xt, Yt = Xtr[:5000], Ytr[:5000]\n",
    "XtS, params = ml.rescale(Xt) # Normalize the features\n",
    "XvS, _ = ml.rescale(Xva, params) # Normalize the features"
   ]
  },
  {
   "cell_type": "code",
   "execution_count": null,
   "metadata": {
    "collapsed": true
   },
   "outputs": [],
   "source": [
    "nn = ml.nnet.nnetClassify()\n",
    "nn.init_weights([XtS.shape[1], 150,150, 2], 'random', XtS, Yt) # as many layers nodes you want \n",
    "sig = lambda z: np.atleast_2d(z/(1 + abs(z)))\n",
    "dsig = lambda z: np.atleast_2d(1/(1 + abs(z))**2)\n",
    "nn.setActivation('htangent', sig, dsig)\n",
    "nn.train(XtS, Yt, stopTol=1e-8, stepsize=.25, stopIter=300)\n",
    "Yte = np.vstack((np.arange(Xte.shape[0]), nn.predictSoft(Xte)[:,1])).T\n",
    "np.savetxt('Y_submit.txt', Yte, '%d, %.2f', header='ID,Prob1', comments='', delimiter=',')"
   ]
  },
  {
   "cell_type": "markdown",
   "metadata": {},
   "source": [
    "## Classifier #3"
   ]
  },
  {
   "cell_type": "code",
   "execution_count": null,
   "metadata": {
    "collapsed": true
   },
   "outputs": [],
   "source": [
    "X0 = X[:10000]"
   ]
  },
  {
   "cell_type": "code",
   "execution_count": null,
   "metadata": {
    "collapsed": true
   },
   "outputs": [],
   "source": [
    "learner = ml.linearC.linearClassify()\n",
    "learner.train(X0, Y, reg=0.9, initStep=0.01, stopTol=1e-6, stopIter=100)\n",
    "Yte = np.vstack((np.arange(Xte.shape[0]), learner.predictSoft(Xte)[:,1])).T\n",
    "np.savetxt('Y_submit.txt', Yte, '%d, %.2f', header='ID,Prob1', comments='', delimiter=',')"
   ]
  },
  {
   "cell_type": "markdown",
   "metadata": {},
   "source": [
    "## Bagging Decision Trees"
   ]
  },
  {
   "cell_type": "code",
   "execution_count": 28,
   "metadata": {
    "collapsed": true
   },
   "outputs": [],
   "source": [
    "import numpy as np \n",
    "import pandas as pd\n",
    "\n",
    "def bootstrap_resample(X, n=None):\n",
    "    if isinstance(X, pd.Series):\n",
    "        X = X.copy()\n",
    "        X.index = range(len(X.index))\n",
    "    if n == None:\n",
    "        n = len(X)\n",
    "        \n",
    "    resample_i = np.floor(np.random.rand(n)*len(X)).astype(int)\n",
    "    X_resample = np.array(X[resample_i])  # TODO: write a test demonstrating why array() is important\n",
    "    return X_resample"
   ]
  },
  {
   "cell_type": "code",
   "execution_count": 29,
   "metadata": {},
   "outputs": [],
   "source": [
    "for x in range(3):\n",
    "    Xnot = bootstrap_resample(X, n=None)\n",
    "    learner = ml.dtree.treeClassify(X, Y, minParent = 20, maxDepth=15, minLeaf = 64)\n",
    "    Yte = np.vstack((np.arange(Xnot.shape[0]), learner.predictSoft(Xnot)[:,1])).T\n",
    "    np.savetxt('Y_tr'+str(x)+'.txt', Yte, '%d, %.2f', header='ID,Prob1', comments='', delimiter=',')\n",
    "    \n",
    "for x in range(3):\n",
    "    Xnot = bootstrap_resample(Xte, n=None)\n",
    "    learner = ml.dtree.treeClassify(X, Y, minParent = 20, maxDepth=15, minLeaf = 64)\n",
    "    Yte = np.vstack((np.arange(Xnot.shape[0]), learner.predictSoft(Xnot)[:,1])).T\n",
    "    np.savetxt('Y_te'+str(x)+'.txt', Yte, '%d, %.2f', header='ID,Prob1', comments='', delimiter=',')   "
   ]
  },
  {
   "cell_type": "code",
   "execution_count": 30,
   "metadata": {},
   "outputs": [],
   "source": [
    "Ytr0 = np.genfromtxt('Y_tr0.txt', skip_header=1, delimiter=None)\n",
    "Ytr1 = np.genfromtxt('Y_tr1.txt', skip_header=1, delimiter=None)\n",
    "Ytr2 = np.genfromtxt('Y_tr2.txt', skip_header=1, delimiter=None)\n",
    "\n",
    "Yte0 = np.genfromtxt('Y_te0.txt', skip_header=1, delimiter=None)\n",
    "Yte1 = np.genfromtxt('Y_te1.txt', skip_header=1, delimiter=None)\n",
    "Yte2 = np.genfromtxt('Y_te2.txt', skip_header=1, delimiter=None)"
   ]
  },
  {
   "cell_type": "code",
   "execution_count": 31,
   "metadata": {},
   "outputs": [],
   "source": [
    "Ytrhat = np.ones_like(Ytr1)\n",
    "for x in range(len(Ytr1)):\n",
    "    Ytrhat[x][0] = int(x)\n",
    "    if(Ytr0[x][1] == Ytr2[x][1]):\n",
    "        Ytrhat[x][1] = Ytr0[x][1]\n",
    "    else:\n",
    "        Ytrhat[x][1] = Ytr1[x][1]\n",
    "np.savetxt('Yhat_train.txt', Ytehat, '%d, %.2f', header='ID,Prob1', comments='', delimiter=',')\n",
    "\n",
    "Ytehat = np.ones_like(Yte1)\n",
    "for x in range(len(Yte1)):\n",
    "    Ytehat[x][0] = int(x)\n",
    "    if(Yte0[x][1] == Yte2[x][1]):\n",
    "        Ytehat[x][1] = Yte0[x][1]\n",
    "    else:\n",
    "        Ytehat[x][1] = Yte1[x][1]\n",
    "        \n",
    "np.savetxt('Y_submit.txt', Ytehat, '%d, %.2f', header='ID,Prob1', comments='', delimiter=',')"
   ]
  },
  {
   "cell_type": "code",
   "execution_count": 33,
   "metadata": {},
   "outputs": [
    {
     "name": "stdout",
     "output_type": "stream",
     "text": [
      "TRAINING\n"
     ]
    },
    {
     "data": {
      "image/png": "[encoded data removed]",
      "text/plain": [
       "<matplotlib.figure.Figure at 0x129a40b8>"
      ]
     },
     "metadata": {},
     "output_type": "display_data"
    }
   ],
   "source": [
    "print(\"TRAINING\")\n",
    "Y_tr = np.genfromtxt('Yhat_train.txt', skip_header=1, delimiter=None)\n",
    "f, ax = plt.subplots(1, 1, figsize=(8, 5))\n",
    "cax = ax.matshow(Y_tr, interpolation='nearest') \n",
    "f.colorbar(cax)\n",
    "plt.show()"
   ]
  },
  {
   "cell_type": "code",
   "execution_count": 34,
   "metadata": {},
   "outputs": [
    {
     "name": "stdout",
     "output_type": "stream",
     "text": [
      "TESTING\n"
     ]
    },
    {
     "data": {
      "image/png": "[encoded data removed]",
      "text/plain": [
       "<matplotlib.figure.Figure at 0x16ba4160>"
      ]
     },
     "metadata": {},
     "output_type": "display_data"
    }
   ],
   "source": [
    "print(\"TESTING\")\n",
    "Y_te = np.genfromtxt('Y_submit.txt', skip_header=1, delimiter=None)\n",
    "f, ax = plt.subplots(1, 1, figsize=(8, 5))\n",
    "cax = ax.matshow(Y_te, interpolation='nearest') \n",
    "f.colorbar(cax)\n",
    "plt.show()"
   ]
  },
  {
   "cell_type": "code",
   "execution_count": 18,
   "metadata": {},
   "outputs": [
    {
     "data": {
      "text/plain": [
       "(200000L,)"
      ]
     },
     "execution_count": 18,
     "metadata": {},
     "output_type": "execute_result"
    }
   ],
   "source": [
    "Y.shape"
   ]
  },
  {
   "cell_type": "code",
   "execution_count": null,
   "metadata": {
    "collapsed": true
   },
   "outputs": [],
   "source": []
  }
 ],
 "metadata": {
  "kernelspec": {
   "display_name": "Python 2",
   "language": "python",
   "name": "python2"
  },
  "language_info": {
   "codemirror_mode": {
    "name": "ipython",
    "version": 2
   },
   "file_extension": ".py",
   "mimetype": "text/x-python",
   "name": "python",
   "nbconvert_exporter": "python",
   "pygments_lexer": "ipython2",
   "version": "2.7.13"
  }
 },
 "nbformat": 4,
 "nbformat_minor": 2
}

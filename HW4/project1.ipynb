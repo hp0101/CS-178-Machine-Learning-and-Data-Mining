{
 "cells": [
  {
   "cell_type": "code",
   "execution_count": 1,
   "metadata": {
    "collapsed": true
   },
   "outputs": [],
   "source": [
    "from __future__ import division\n",
    "import numpy as np \n",
    "import mltools as ml\n",
    "import math\n",
    "\n",
    "%matplotlib inline\n",
    "import matplotlib.pyplot as plt\n",
    "\n",
    "np.random.seed(0)"
   ]
  },
  {
   "cell_type": "code",
   "execution_count": 2,
   "metadata": {
    "collapsed": true
   },
   "outputs": [],
   "source": [
    "X = np.genfromtxt('data/X_train.txt', delimiter=None)\n",
    "Y = np.genfromtxt('data/Y_train.txt', delimiter=None)"
   ]
  },
  {
   "cell_type": "code",
   "execution_count": 5,
   "metadata": {},
   "outputs": [
    {
     "name": "stdout",
     "output_type": "stream",
     "text": [
      "it 1 : Jsur = 0.415735681349, J01 = 0.3092\n",
      "it 2 : Jsur = 0.411215371957, J01 = 0.3024\n",
      "it 4 : Jsur = 0.411142190298, J01 = 0.3062\n",
      "it 8 : Jsur = 0.409879533022, J01 = 0.3042\n",
      "it 16 : Jsur = 0.408246147548, J01 = 0.3026\n",
      "it 32 : Jsur = 0.405706379692, J01 = 0.2998\n",
      "it 64 : Jsur = 0.404144795389, J01 = 0.3006\n",
      "it 128 : Jsur = 0.403335367886, J01 = 0.3004\n",
      "it 256 : Jsur = 0.402396535668, J01 = 0.298\n"
     ]
    }
   ],
   "source": [
    "Xte = np.genfromtxt('data/X_test.txt', delimiter=None)\n",
    "\n",
    "Xtr, Xva, Ytr, Yva = ml.splitData(X, Y)\n",
    "Xt, Yt = Xtr[:5000], Ytr[:5000]\n",
    "XtS, params = ml.rescale(Xt) # Normalize the features\n",
    "XvS, _ = ml.rescale(Xva, params) # Normalize the features\n",
    "\n",
    "nn = ml.nnet.nnetClassify()\n",
    "nn.init_weights([XtS.shape[1], 150,150, 2], 'random', XtS, Yt) # as many layers nodes you want \n",
    "sig = lambda z: np.atleast_2d(z/(1 + abs(z)))\n",
    "dsig = lambda z: np.atleast_2d(1/(1 + abs(z))**2)\n",
    "nn.setActivation('htangent', sig, dsig)\n",
    "nn.train(XtS, Yt, stopTol=1e-8, stepsize=.25, stopIter=300)\n",
    "Yte = np.vstack((np.arange(Xte.shape[0]), nn.predictSoft(Xte)[:,1])).T\n",
    "np.savetxt('Y_submit.txt', Yte, '%d, %.2f', header='ID,Prob1', comments='', delimiter=',')"
   ]
  },
  {
   "cell_type": "code",
   "execution_count": 6,
   "metadata": {},
   "outputs": [
    {
     "name": "stderr",
     "output_type": "stream",
     "text": [
      "mltools/knn.py:103: RuntimeWarning: invalid value encountered in divide\n",
      "  prob[i,:] = count / count.sum()    # save (soft) results\n"
     ]
    }
   ],
   "source": [
    "learner = ml.knn.knnClassify()\n",
    "learner.train(XtS, Yt, K=21, alpha=1)\n",
    "Yte = np.vstack((np.arange(Xte.shape[0]), learner.predictSoft(Xte)[:,1])).T\n",
    "np.savetxt('Y_submit.txt', Yte, '%d, %.2f', header='ID,Prob1', comments='', delimiter=',')"
   ]
  },
  {
   "cell_type": "code",
   "execution_count": null,
   "metadata": {
    "collapsed": true
   },
   "outputs": [],
   "source": []
  }
 ],
 "metadata": {
  "kernelspec": {
   "display_name": "Python 2",
   "language": "python",
   "name": "python2"
  },
  "language_info": {
   "codemirror_mode": {
    "name": "ipython",
    "version": 2
   },
   "file_extension": ".py",
   "mimetype": "text/x-python",
   "name": "python",
   "nbconvert_exporter": "python",
   "pygments_lexer": "ipython2",
   "version": "2.7.13"
  }
 },
 "nbformat": 4,
 "nbformat_minor": 2
}
